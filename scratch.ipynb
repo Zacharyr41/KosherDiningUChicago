{
 "cells": [
  {
   "cell_type": "code",
   "execution_count": 1,
   "metadata": {},
   "outputs": [],
   "source": [
    "import requests\n",
    "import json\n",
    "from bs4 import BeautifulSoup\n",
    "from selenium import webdriver"
   ]
  },
  {
   "cell_type": "markdown",
   "metadata": {},
   "source": [
    "# Getting the Site ID"
   ]
  },
  {
   "cell_type": "code",
   "execution_count": 6,
   "metadata": {},
   "outputs": [
    {
     "name": "stdout",
     "output_type": "stream",
     "text": [
      "Site ID: 60648db131d1ee201bfa84a8\n"
     ]
    }
   ],
   "source": [
    "response = requests.get('https://api.dineoncampus.com/v1/sites/uchicago/info')\n",
    "data = response.json()\n",
    "site_id = data['site']['id']\n",
    "print(\"Site ID:\", site_id)"
   ]
  },
  {
   "cell_type": "markdown",
   "metadata": {},
   "source": [
    "# Info by Slug"
   ]
  },
  {
   "cell_type": "code",
   "execution_count": 8,
   "metadata": {},
   "outputs": [
    {
     "name": "stdout",
     "output_type": "stream",
     "text": [
      "{'status': 'success', 'request_time': 0.01780681, 'records': 1, 'section': {'id': '60648db431d1ee201bfa84b1', 'name': \"What's On The Menu?\", 'nodes': None, 'body': 'null', 'show_header': True, 'is_url': False, 'url': None, 'published': True, 'start': '2021-07-21T12:29:45.000-07:00', 'end': '2021-07-21T12:29:45.000-07:00', 'scheduled': False, 'is_file': False, 'file_name': None, 'original_file_name': None, 'global': False, 'change_name': False, 'change_slug': False, 'master': False, 'slug': 'whats-on-the-menu', 'use_banner': False, 'microsite_landing': False, 'banner_text': 'null', 'banner_text_align': 'left', 'banner_text_font': 'inherit', 'tile': False, 'is_published': True, 'no_robots': False, 'script_url': None, 'use_script': False, 'published_status': None, 'master_section': {'id': '5956bc3fee596f675f69f653', 'name': \"What's On The Menu?\", 'master_slug': 'whats-on-the-menu'}, 'banner': None}}\n"
     ]
    }
   ],
   "source": [
    "slug_request_url = 'https://api.dineoncampus.com/v1/sections/info_by_slug?site_id={}&slug=whats-on-the-menu'.format(site_id)\n",
    "response = requests.get(slug_request_url)\n",
    "data = response.json()\n",
    "print(data)"
   ]
  },
  {
   "cell_type": "markdown",
   "metadata": {},
   "source": [
    "# All Locations"
   ]
  },
  {
   "cell_type": "code",
   "execution_count": 17,
   "metadata": {},
   "outputs": [],
   "source": [
    "def building_of_interest(building_name):\n",
    "    return building_name == 'Bartlett Dining Commons' or building_name == 'Cathey Dining Commons' or building_name == 'Baker Dining Commons' or building_name == 'Woodlawn Dining Commons'"
   ]
  },
  {
   "cell_type": "code",
   "execution_count": 53,
   "metadata": {},
   "outputs": [],
   "source": [
    "def convert_tuples_to_dict(lst):\n",
    "    result = {}\n",
    "    for tuple_item in lst:\n",
    "        key = tuple_item[1]\n",
    "        value = tuple_item[0]\n",
    "        result[key] = value\n",
    "    return result\n"
   ]
  },
  {
   "cell_type": "code",
   "execution_count": 54,
   "metadata": {},
   "outputs": [
    {
     "name": "stdout",
     "output_type": "stream",
     "text": [
      "{'Baker Dining Commons': '618a6caab63f1e2d4442bdf5', 'Cathey Dining Commons': '618a6efbb63f1e2d444389c1', 'Woodlawn Dining Commons': '618a6df9b63f1e2d692b1f5c', 'Bartlett Dining Commons': '618a6f95b63f1e2d3b454065'}\n"
     ]
    }
   ],
   "source": [
    "all_location_url = 'https://api.dineoncampus.com/v1/locations/all_locations?platform=0&site_id={}&for_menus=true&with_address=false&with_buildings=true'.format(site_id)\n",
    "response = requests.get(all_location_url)\n",
    "data = response.json()\n",
    "# Extract Building IDs\n",
    "building_ids = []\n",
    "for building in data['buildings']:\n",
    "    for location in building['locations']:\n",
    "\n",
    "        if building_of_interest(location['name']) and location['active']:\n",
    "            building_ids.append((location['id'], location['name']))\n",
    "\n",
    "building_ids = convert_tuples_to_dict(building_ids)\n",
    "print(building_ids)\n"
   ]
  },
  {
   "cell_type": "markdown",
   "metadata": {},
   "source": [
    "# Periods"
   ]
  },
  {
   "cell_type": "code",
   "execution_count": 44,
   "metadata": {},
   "outputs": [],
   "source": [
    "response_list = []\n",
    "for building_id, building_name in building_ids:\n",
    "    period_request_url = 'https://api.dineoncampus.com/v1/location/{}/periods?platform=0&date=2023-5-18'.format(building_id)\n",
    "    response = requests.get(period_request_url)\n",
    "    data = response.json()\n",
    "    if not data['closed']:\n",
    "        response_list.append((building_name, data))\n"
   ]
  },
  {
   "cell_type": "code",
   "execution_count": 51,
   "metadata": {},
   "outputs": [
    {
     "name": "stdout",
     "output_type": "stream",
     "text": [
      "Baker Dining Commons , [{'id': '64663e52351d53059a4d66d6', 'name': 'Breakfast', 'sort_order': 0}, {'id': '64663e52351d53059a4d66db', 'name': 'Lunch', 'sort_order': 1}, {'id': '64663e52351d53059a4d66ec', 'name': 'Dinner', 'sort_order': 2}, {'id': '64663e53351d53059a4d6700', 'name': 'Salad Bar', 'sort_order': 3}, {'id': '64663e53351d53059a4d670a', 'name': 'Deli Bar', 'sort_order': 4}, {'id': '64663e53351d53059a4d6705', 'name': 'Every Day', 'sort_order': 5}, {'id': '64663e53351d53059a4d66fc', 'name': 'Late Night', 'sort_order': 6}]\n",
      "Baker Dining Commons , [{'id': '646643d1351d5305ae38f613', 'name': 'Breakfast', 'sort_order': 0}, {'id': '646643d0351d5305ae38f5f9', 'name': 'Lunch', 'sort_order': 1}, {'id': '646643d1351d5305ae38f607', 'name': 'Dinner', 'sort_order': 2}, {'id': '646643d1351d5305ae38f618', 'name': 'Salad Bar', 'sort_order': 3}, {'id': '646643d1351d5305ae38f622', 'name': 'Deli Bar', 'sort_order': 4}, {'id': '646643d1351d5305ae38f61d', 'name': 'Every Day', 'sort_order': 5}, {'id': '646643d1351d5305ae38f626', 'name': 'Late Night', 'sort_order': 7}]\n",
      "Baker Dining Commons , [{'id': '6466421ac625af0654cd1b00', 'name': 'Breakfast', 'sort_order': 0}, {'id': '6466421ac625af0654cd1b05', 'name': 'Lunch', 'sort_order': 1}, {'id': '6466421bc625af0654cd1b20', 'name': 'Dinner', 'sort_order': 2}, {'id': '6466421bc625af0654cd1b38', 'name': 'Salad Bar', 'sort_order': 3}, {'id': '6466421cc625af0654cd1b3d', 'name': 'Every Day', 'sort_order': 4}, {'id': '6466421cc625af0654cd1b42', 'name': 'Deli Bar', 'sort_order': 5}]\n"
     ]
    }
   ],
   "source": [
    "print(response_list[0][0], \",\" ,response_list[0][1]['periods'])\n",
    "print(response_list[0][0], \",\" , response_list[1][1]['periods'])\n",
    "print(response_list[0][0], \",\" ,response_list[2][1]['periods'])\n",
    "\n",
    "    "
   ]
  },
  {
   "cell_type": "code",
   "execution_count": 59,
   "metadata": {},
   "outputs": [],
   "source": [
    "master_dictionary = {}\n",
    "for building in response_list:\n",
    "    name = building[0]\n",
    "    master_dictionary[name] = {}\n",
    "    for period in building[1]['periods']:\n",
    "        if period['name'] == 'Lunch' or period['name'] == 'Dinner':\n",
    "            master_dictionary[name][period['name']] = period['id']\n",
    "        master_dictionary[name]['location_id'] = building_ids[name]"
   ]
  },
  {
   "cell_type": "code",
   "execution_count": 60,
   "metadata": {},
   "outputs": [
    {
     "name": "stdout",
     "output_type": "stream",
     "text": [
      "{'Baker Dining Commons': {'location_id': '618a6caab63f1e2d4442bdf5', 'Lunch': '64663e52351d53059a4d66db', 'Dinner': '64663e52351d53059a4d66ec'}, 'Cathey Dining Commons': {'location_id': '618a6efbb63f1e2d444389c1', 'Lunch': '646643d0351d5305ae38f5f9', 'Dinner': '646643d1351d5305ae38f607'}, 'Woodlawn Dining Commons': {'location_id': '618a6df9b63f1e2d692b1f5c', 'Lunch': '6466421ac625af0654cd1b05', 'Dinner': '6466421bc625af0654cd1b20'}}\n"
     ]
    }
   ],
   "source": [
    "print(master_dictionary)"
   ]
  }
 ],
 "metadata": {
  "kernelspec": {
   "display_name": "Python 3.9.6 64-bit",
   "language": "python",
   "name": "python3"
  },
  "language_info": {
   "codemirror_mode": {
    "name": "ipython",
    "version": 3
   },
   "file_extension": ".py",
   "mimetype": "text/x-python",
   "name": "python",
   "nbconvert_exporter": "python",
   "pygments_lexer": "ipython3",
   "version": "3.9.6"
  },
  "orig_nbformat": 4,
  "vscode": {
   "interpreter": {
    "hash": "31f2aee4e71d21fbe5cf8b01ff0e069b9275f58929596ceb00d14d90e3e16cd6"
   }
  }
 },
 "nbformat": 4,
 "nbformat_minor": 2
}
